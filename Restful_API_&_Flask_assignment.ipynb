{
  "nbformat": 4,
  "nbformat_minor": 0,
  "metadata": {
    "colab": {
      "provenance": []
    },
    "kernelspec": {
      "name": "python3",
      "display_name": "Python 3"
    },
    "language_info": {
      "name": "python"
    }
  },
  "cells": [
    {
      "cell_type": "markdown",
      "source": [
        "# 1. What is a RESTful API?\n",
        "\n",
        "  - RESTful API: An API that follows REST (Representational State Transfer) principles — stateless communication, resource-based URIs, uniform interface, and use of standard HTTP methods (GET, POST, PUT, DELETE, etc.). Resources are identified by URLs and manipulated using representations (usually JSON or XML)."
      ],
      "metadata": {
        "id": "BIZRp4x5G0os"
      }
    },
    {
      "cell_type": "markdown",
      "source": [
        "# 2. Explain the concept of API specification.\n",
        "\n",
        "  - API specification: A formal contract describing endpoints, request/response formats, parameters, authentication, error responses, and data models. Examples: OpenAPI (Swagger), RAML, API Blueprint. It helps design, document, validate, and generate client/server code."
      ],
      "metadata": {
        "id": "Jq29S8YHHEJt"
      }
    },
    {
      "cell_type": "markdown",
      "source": [
        "# 3. What is Flask, and why is it popular for building APIs?\n",
        "\n",
        "  - Flask: A lightweight Python web microframework.\n",
        "  - Popular because: minimalistic, easy to learn, highly extensible through extensions (Flask-RESTful, Flask-SQLAlchemy), flexible routing, good for quick prototypes and production apps."
      ],
      "metadata": {
        "id": "MfLp07-HHOR4"
      }
    },
    {
      "cell_type": "markdown",
      "source": [
        "# 4. What is routing in Flask?\n",
        "\n",
        "  - Routing: Mapping of URL paths and HTTP methods to Python functions (view functions). Flask routes define which function handles a given request URL."
      ],
      "metadata": {
        "id": "8aG8Zog7Heeg"
      }
    },
    {
      "cell_type": "markdown",
      "source": [
        "# 5. How do you create a simple Flask application?"
      ],
      "metadata": {
        "id": "t0l1DMCYHn2L"
      }
    },
    {
      "cell_type": "markdown",
      "source": [
        "# 6. What are HTTP methods used in RESTful APIs?\n",
        "\n",
        "  - Common methods: GET (retrieve), POST (create), PUT (replace/update), PATCH (partial update), DELETE (remove), HEAD, OPTIONS."
      ],
      "metadata": {
        "id": "pmb_ZBQbIQPw"
      }
    },
    {
      "cell_type": "markdown",
      "source": [
        "# 7. What is the purpose of the @app.route() decorator in Flask?\n",
        "\n",
        "  - @app.route() registers a function as the handler for a given URL path and optional HTTP methods. It tells Flask which view function to call for requests to that path."
      ],
      "metadata": {
        "id": "q9UXanwAIaZG"
      }
    },
    {
      "cell_type": "markdown",
      "source": [
        "# 8. What is the difference between GET and POST HTTP methods?\n",
        "\n",
        "  - GET: Retrieve data; idempotent and safe (should not change server state); parameters often in query string; responses cacheable.\n",
        "  - POST: Submit data to create a resource or cause side effects; not idempotent; request body typically contains data (JSON, form)."
      ],
      "metadata": {
        "id": "clSZWS6zIkFB"
      }
    },
    {
      "cell_type": "markdown",
      "source": [
        "# 9. How do you handle errors in Flask APIs?\n",
        "\n"
      ],
      "metadata": {
        "id": "wx7SjenPIwH2"
      }
    },
    {
      "cell_type": "code",
      "source": [
        "#Use error handlers and return proper HTTP status codes and JSON error messages. Example:\n",
        "\n",
        "from flask import jsonify\n",
        "\n",
        "@app.errorhandler(404)\n",
        "def not_found(e):\n",
        "    return jsonify(error=\"Not found\"), 404\n",
        "\n",
        "#Use try/except, custom exceptions, and validation libraries (Marshmallow, pydantic)."
      ],
      "metadata": {
        "id": "83qWWuu7I4hN"
      },
      "execution_count": null,
      "outputs": []
    },
    {
      "cell_type": "markdown",
      "source": [
        "# 10. How do you connect Flask to a SQL database?"
      ],
      "metadata": {
        "id": "Hf3du-gUJD6i"
      }
    },
    {
      "cell_type": "code",
      "source": [
        "#Use a DB library/ORM and configure database URI. Example with SQLAlchemy:\n",
        "\n",
        "from flask_sqlalchemy import SQLAlchemy\n",
        "app.config['SQLALCHEMY_DATABASE_URI'] = 'sqlite:///app.db'\n",
        "db = SQLAlchemy(app)\n",
        "\n",
        "#Alternatively use raw drivers (psycopg2 for Postgres) or other ORMs."
      ],
      "metadata": {
        "id": "hI7sAujkJSkv"
      },
      "execution_count": null,
      "outputs": []
    },
    {
      "cell_type": "markdown",
      "source": [
        "# 11. What is the role of Flask-SQLAlchemy?\n",
        "\n",
        "  - Flask-SQLAlchemy: A Flask extension that integrates SQLAlchemy ORM with Flask, simplifying configuration, models, sessions, and migrations (often used with Flask-Migrate)."
      ],
      "metadata": {
        "id": "w4GiFrOrJZfF"
      }
    },
    {
      "cell_type": "markdown",
      "source": [
        "# 12. What are Flask blueprints, and how are they useful?\n",
        "\n",
        "  - Blueprints: Components to organize related routes, templates, and static files into reusable modules. Useful for large apps, enabling modular structure and easier testing."
      ],
      "metadata": {
        "id": "7hy0Z-zuJjOW"
      }
    },
    {
      "cell_type": "markdown",
      "source": [
        "# 13. What is the purpose of Flask's request object?\n",
        "\n",
        "  - flask.request exposes HTTP request data (method, headers, args/query, form, JSON body, files, cookies). It's used inside view functions to access client-sent data."
      ],
      "metadata": {
        "id": "mcupOtYuJqjz"
      }
    },
    {
      "cell_type": "markdown",
      "source": [
        "# 14. How do you create a RESTful API endpoint using Flask?"
      ],
      "metadata": {
        "id": "DCudMSGwJ0gW"
      }
    },
    {
      "cell_type": "markdown",
      "source": [
        "# 15. What is the purpose of Flask's jsonify() function?\n",
        "\n",
        "  - jsonify() converts Python dicts/lists to a Flask Response with properly formatted JSON and the application/json content type and handles JSON encoding safely."
      ],
      "metadata": {
        "id": "jVc84NqmJ-tT"
      }
    },
    {
      "cell_type": "markdown",
      "source": [
        "# 16. Explain Flask's url_for() function.\n",
        "\n",
        "  - url_for('endpoint_name', **values) returns the URL for a view function (endpoint) using its name and any variable parts. Useful to avoid hardcoding URLs and to build links dynamically."
      ],
      "metadata": {
        "id": "w5-1UkyyKHDX"
      }
    },
    {
      "cell_type": "markdown",
      "source": [
        "# 17. How does Flask handle static files (CSS, JavaScript, etc.)?\n",
        "\n",
        "  - Flask serves files placed in the static/ folder automatically at /static/<filename>. In templates use url_for('static', filename='style.css'). For production, static files are normally served by a web server (Nginx)."
      ],
      "metadata": {
        "id": "ORjw0oTMKPRz"
      }
    },
    {
      "cell_type": "markdown",
      "source": [
        "# 18. What is an API specification, and how does it help in building a Flask API?\n",
        "\n",
        "  - An API specification is a detailed document (or file) that describes how an API works.\n",
        "It tells developers:\n",
        "\n",
        "    - Endpoints: URLs (like /users, /products) that the API exposes\n",
        "\n",
        "    - Methods: HTTP methods (GET, POST, PUT, DELETE, etc.)\n",
        "\n",
        "    - Parameters: What input is required (query params, body, headers)\n",
        "\n",
        "    - Responses: What output will be returned (status codes, JSON structure)\n",
        "\n",
        "    - Authentication: How clients should authenticate (tokens, API keys, etc.)\n"
      ],
      "metadata": {
        "id": "H_VccDTQKYW9"
      }
    },
    {
      "cell_type": "markdown",
      "source": [
        "# 19. What are HTTP status codes, and why are they important in a Flask API?\n",
        "\n",
        "  - HTTP status codes communicate the result of a request (e.g., 200 OK, 201 Created, 400 Bad Request, 401 Unauthorized, 404 Not Found, 500 Internal Server Error). They help clients understand outcome and handle errors programmatically."
      ],
      "metadata": {
        "id": "hn_spYxWLUwO"
      }
    },
    {
      "cell_type": "markdown",
      "source": [
        "# 20. How do you handle POST requests in Flask?"
      ],
      "metadata": {
        "id": "FX2p-1htLduu"
      }
    },
    {
      "cell_type": "markdown",
      "source": [
        "# 21. How would you secure a Flask API?\n",
        "\n",
        "  - Common practices:\n",
        "    - Use HTTPS (TLS).\n",
        "    - Authenticate (JWT, OAuth2, token-based) and authorize requests.\n",
        "    - Validate and sanitize input; use parameterized queries/ORM to prevent SQL injection.\n",
        "    - Rate limiting (Flask-Limiter), CORS controls (Flask-CORS).\n",
        "    - Use secure headers, CSRF protection for forms, keep secrets safe, and patch dependencies."
      ],
      "metadata": {
        "id": "CEgbaqYqLmhu"
      }
    },
    {
      "cell_type": "markdown",
      "source": [
        "# 22. What is the significance of the Flask-RESTful extension?\n",
        "\n",
        "  - Flask-RESTful: Extension providing tools to build REST APIs: Resource classes, request parsing (reqparse), and easy routing for APIs. It structures APIs around resource classes and can simplify building larger APIs."
      ],
      "metadata": {
        "id": "bp-J6d2HMFfI"
      }
    },
    {
      "cell_type": "markdown",
      "source": [
        "# 23. What is the role of Flask’s session object?\n",
        "\n",
        "  - flask.session stores client-specific data between requests (stored client-side in a signed cookie by default). Use it for short-lived user data like login state. For server-side sessions use extensions (Flask-Session) or database-backed stores."
      ],
      "metadata": {
        "id": "9gV1QOK_MWYj"
      }
    },
    {
      "cell_type": "code",
      "source": [],
      "metadata": {
        "id": "EnuOP5RrMfIJ"
      },
      "execution_count": null,
      "outputs": []
    },
    {
      "cell_type": "code",
      "source": [],
      "metadata": {
        "id": "N05pIAIMMgnD"
      },
      "execution_count": null,
      "outputs": []
    },
    {
      "cell_type": "code",
      "source": [],
      "metadata": {
        "id": "eK3RyfK0MgNN"
      },
      "execution_count": null,
      "outputs": []
    },
    {
      "cell_type": "code",
      "source": [],
      "metadata": {
        "id": "19HbFWQ2Mf9j"
      },
      "execution_count": null,
      "outputs": []
    },
    {
      "cell_type": "code",
      "source": [
        "# 1. How do you create a basic Flask application?\n",
        "\n",
        "#Install Flask (pip install flask) then create an app, define routes, and run it.\n",
        "\n",
        "from flask import Flask\n",
        "\n",
        "app = Flask(__name__)\n",
        "\n",
        "@app.route('/')\n",
        "def index():\n",
        "    return 'Hello, Flask!'\n",
        "\n",
        "if __name__ == '__main__':\n",
        "    app.run(debug=True)  # runs on http://127.0.0.1:5000 by default"
      ],
      "metadata": {
        "colab": {
          "base_uri": "https://localhost:8080/"
        },
        "id": "yLYkf_K7Mftd",
        "outputId": "9399c8f1-a721-4338-9aa4-15bb2cd1eef0"
      },
      "execution_count": 1,
      "outputs": [
        {
          "output_type": "stream",
          "name": "stdout",
          "text": [
            " * Serving Flask app '__main__'\n",
            " * Debug mode: on\n"
          ]
        },
        {
          "output_type": "stream",
          "name": "stderr",
          "text": [
            "INFO:werkzeug:\u001b[31m\u001b[1mWARNING: This is a development server. Do not use it in a production deployment. Use a production WSGI server instead.\u001b[0m\n",
            " * Running on http://127.0.0.1:5000\n",
            "INFO:werkzeug:\u001b[33mPress CTRL+C to quit\u001b[0m\n",
            "INFO:werkzeug: * Restarting with watchdog (inotify)\n"
          ]
        }
      ]
    },
    {
      "cell_type": "code",
      "source": [
        "# 2. How do you serve static files like images or CSS in Flask?"
      ],
      "metadata": {
        "id": "yqb0JSmiPqPi"
      },
      "execution_count": null,
      "outputs": []
    },
    {
      "cell_type": "code",
      "source": [
        "# 3. How do you define different routes with different HTTP methods in Flask?\n",
        "\n",
        "#Use the methods parameter of @app.route.\n",
        "\n",
        "from flask import request\n",
        "\n",
        "@app.route('/submit', methods=['GET', 'POST'])\n",
        "def submit():\n",
        "    if request.method == 'POST':\n",
        "        return 'Form posted'\n",
        "    return 'Show form'"
      ],
      "metadata": {
        "id": "_f_od_hiP2Ce"
      },
      "execution_count": 2,
      "outputs": []
    },
    {
      "cell_type": "code",
      "source": [
        "# 4. How do you render HTML templates in Flask?\n",
        "\n",
        "#Put templates in the templates/ folder and use render_template.\n",
        "\n",
        "from flask import render_template\n",
        "\n",
        "@app.route('/')\n",
        "def home():\n",
        "    return render_template('index.html', title='Home')\n"
      ],
      "metadata": {
        "id": "Yxhm-LfbQXQ7"
      },
      "execution_count": null,
      "outputs": []
    },
    {
      "cell_type": "code",
      "source": [
        "# 5.How can you generate URLs for routes in Flask using url_for?\n",
        "\n",
        "#Use url_for('endpoint_name', **values); use function name as endpoint by default.\n",
        "\n",
        "@app.route('/user/<username>')\n",
        "def profile(username):\n",
        "    return f'Profile: {username}'\n",
        "\n",
        "# In Python code\n",
        "url = url_for('profile', username='alice')  # -> '/user/alice'\n",
        "# In template\n",
        "<a href=\"{{ url_for('profile', username='alice') }}\">Alice</a>"
      ],
      "metadata": {
        "id": "fn2jRDm9QV7o"
      },
      "execution_count": null,
      "outputs": []
    },
    {
      "cell_type": "code",
      "source": [
        "# 6.How do you handle forms in Flask?\n",
        "\n",
        "#Read form data from request.form (for application/x-www-form-urlencoded or multipart/form-data) or request.files for uploads.\n",
        "\n",
        "from flask import request, redirect, url_for\n",
        "\n",
        "@app.route('/login', methods=['GET', 'POST'])\n",
        "def login():\n",
        "    if request.method == 'POST':\n",
        "        username = request.form['username']\n",
        "        password = request.form.get('password')\n",
        "        # authenticate...\n",
        "        return redirect(url_for('index'))\n",
        "    return render_template('login.html')"
      ],
      "metadata": {
        "id": "QI_0QJSYRGO8"
      },
      "execution_count": 6,
      "outputs": []
    },
    {
      "cell_type": "code",
      "source": [
        "# 7. How can you validate form data in Flask?\n",
        "\n",
        "#Simple validation manually in view functions, or use libraries like WTForms / Flask-WTF for structured validation.\n",
        "\n",
        "username = request.form.get('username', '').strip()\n",
        "if not username:\n",
        "    error = 'Username required'\n",
        "\n",
        "#Flask-WTF example (install flask-wtf):\n",
        "\n",
        "from flask_wtf import FlaskForm\n",
        "from wtforms import StringField, PasswordField\n",
        "from wtforms.validators import DataRequired\n",
        "\n",
        "class LoginForm(FlaskForm):\n",
        "    username = StringField('Username', validators=[DataRequired()])\n",
        "    password = PasswordField('Password', validators=[DataRequired()])"
      ],
      "metadata": {
        "id": "GHUFfBlZRTFU"
      },
      "execution_count": null,
      "outputs": []
    },
    {
      "cell_type": "code",
      "source": [
        "# 8. How do you manage sessions in Flask?\n",
        "\n",
        "#Use session from Flask; configure app.secret_key. For production, use server-side session stores (Redis, database) via extensions.\n",
        "\n",
        "from flask import session\n",
        "\n",
        "app.secret_key = 'change_this_to_a_secure_value'\n",
        "\n",
        "@app.route('/set/')\n",
        "def set_session():\n",
        "    session['user_id'] = 42\n",
        "    return 'Session set'\n",
        "\n",
        "@app.route('/get/')\n",
        "def get_session():\n",
        "    user = session.get('user_id')\n",
        "    return f'User: {user}'"
      ],
      "metadata": {
        "id": "R8h9mwF2Rnvf"
      },
      "execution_count": 8,
      "outputs": []
    },
    {
      "cell_type": "code",
      "source": [
        "# 9. How do you redirect to a different route in Flask?\n",
        "\n",
        "#Use redirect() with url_for().\n",
        "\n",
        "from flask import redirect, url_for\n",
        "\n",
        "@app.route('/old')\n",
        "def old():\n",
        "    return redirect(url_for('new'))\n",
        "\n",
        "@app.route('/new')\n",
        "def new():\n",
        "    return 'New page'"
      ],
      "metadata": {
        "id": "OD8ISHpcRy9M"
      },
      "execution_count": 9,
      "outputs": []
    },
    {
      "cell_type": "code",
      "source": [
        "# 10. How do you handle errors in Flask (e.g., 404)?\n",
        "\n",
        "#Register error handlers with @app.errorhandler.\n",
        "\n",
        "from flask import render_template\n",
        "\n",
        "@app.errorhandler(404)\n",
        "def not_found(error):\n",
        "    return render_template('404.html'), 404\n",
        "\n",
        "@app.errorhandler(500)\n",
        "def server_error(error):\n",
        "    return render_template('500.html'), 500"
      ],
      "metadata": {
        "id": "tDAoNsjgR_4l"
      },
      "execution_count": 10,
      "outputs": []
    },
    {
      "cell_type": "code",
      "source": [
        "# 11. How do you structure a Flask app using Blueprints?"
      ],
      "metadata": {
        "id": "39kgWu5ISK6W"
      },
      "execution_count": null,
      "outputs": []
    },
    {
      "cell_type": "code",
      "source": [
        "# 12. How do you define a custom Jinja filter in Flask?\n",
        "\n",
        "#Use app.template_filter() or app.add_template_filter().\n",
        "\n",
        "@app.template_filter('reverse')\n",
        "def reverse_string(s):\n",
        "    return s[::-1]\n",
        "\n",
        "# In template:\n",
        "# {{ 'abc' | reverse }} -> 'cba'\n",
        "\n",
        "#For Blueprints:\n",
        "bp.add_app_template_filter(your_filter_function, 'name')"
      ],
      "metadata": {
        "id": "T41JSyGqSwzE"
      },
      "execution_count": null,
      "outputs": []
    },
    {
      "cell_type": "code",
      "source": [
        "# 13. How can you redirect with query parameters in Flask?\n",
        "\n",
        "#Pass query parameters to url_for.\n",
        "\n",
        "return redirect(url_for('search', q='flask', page=2))\n",
        "# results in: /search?q=flask&page=2\n",
        "\n",
        "#Or build full URL manually:\n",
        "\n",
        "from urllib.parse import urlencode\n",
        "params = urlencode({'q': 'flask', 'page': 2})\n",
        "return redirect(f\"/search?{params}\")"
      ],
      "metadata": {
        "id": "SaGlU3QPTNvI"
      },
      "execution_count": null,
      "outputs": []
    },
    {
      "cell_type": "code",
      "source": [
        "# 14. How do you return JSON responses in Flask?\n",
        "\n",
        "#Use jsonify() or return a dict (Flask 2.2+ will convert to JSON with correct content-type).\n",
        "\n",
        "from flask import jsonify\n",
        "\n",
        "@app.route('/api/data')\n",
        "def data():\n",
        "    return jsonify({'name': 'Alice', 'id': 1})\n",
        "\n"
      ],
      "metadata": {
        "id": "IO28ImKZTy8j"
      },
      "execution_count": 13,
      "outputs": []
    },
    {
      "cell_type": "code",
      "source": [
        "# 15. How do you capture URL parameters in Flask?\n",
        "\n",
        "#Use variable parts in the route /<type:name> and receive them as function arguments.\n",
        "\n",
        "@app.route('/post/<int:post_id>')\n",
        "def show_post(post_id):\n",
        "    return f'Post {post_id}'\n",
        "\n",
        "@app.route('/user/<username>')\n",
        "def profile(username):\n",
        "    return f'User {username}'"
      ],
      "metadata": {
        "id": "3inxYXzbUDbc"
      },
      "execution_count": 12,
      "outputs": []
    }
  ]
}